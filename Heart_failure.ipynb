{
  "nbformat": 4,
  "nbformat_minor": 0,
  "metadata": {
    "colab": {
      "name": "Untitled0.ipynb",
      "provenance": [],
      "authorship_tag": "ABX9TyNkhxhDOzMfavHp2viMHi5u",
      "include_colab_link": true
    },
    "kernelspec": {
      "name": "python3",
      "display_name": "Python 3"
    },
    "language_info": {
      "name": "python"
    }
  },
  "cells": [
    {
      "cell_type": "markdown",
      "metadata": {
        "id": "view-in-github",
        "colab_type": "text"
      },
      "source": [
        "<a href=\"https://colab.research.google.com/github/hemantsinghrajput/Cat_Face_detection/blob/main/Heart_failure.ipynb\" target=\"_parent\"><img src=\"https://colab.research.google.com/assets/colab-badge.svg\" alt=\"Open In Colab\"/></a>"
      ]
    },
    {
      "cell_type": "code",
      "execution_count": 11,
      "metadata": {
        "colab": {
          "base_uri": "https://localhost:8080/"
        },
        "id": "efo74tzbUr1b",
        "outputId": "cc8b23be-9076-4c04-adff-c96bc7068d15"
      },
      "outputs": [
        {
          "output_type": "stream",
          "name": "stdout",
          "text": [
            "    age  anaemia  creatinine_phosphokinase  diabetes  ejection_fraction  \\\n",
            "0  75.0        0                       582         0                 20   \n",
            "1  55.0        0                      7861         0                 38   \n",
            "2  65.0        0                       146         0                 20   \n",
            "3  50.0        1                       111         0                 20   \n",
            "4  65.0        1                       160         1                 20   \n",
            "\n",
            "   high_blood_pressure  platelets  serum_creatinine  serum_sodium  sex  \\\n",
            "0                    1  265000.00               1.9           130    1   \n",
            "1                    0  263358.03               1.1           136    1   \n",
            "2                    0  162000.00               1.3           129    1   \n",
            "3                    0  210000.00               1.9           137    1   \n",
            "4                    0  327000.00               2.7           116    0   \n",
            "\n",
            "   smoking  time  DEATH_EVENT  \n",
            "0        0     4            1  \n",
            "1        0     6            1  \n",
            "2        1     7            1  \n",
            "3        0     7            1  \n",
            "4        0     8            1  \n"
          ]
        }
      ],
      "source": [
        "import pandas as pd\n",
        "import numpy as np\n",
        "import matplotlib.pyplot as plt\n",
        "import seaborn as sns\n",
        "import sklearn\n",
        "from sklearn.model_selection import train_test_split\n",
        "from sklearn.tree import DecisionTreeClassifier\n",
        "from sklearn import tree\n",
        "from sklearn.metrics import accuracy_score, confusion_matrix, classification_report\n",
        "from sklearn.preprocessing import StandardScaler\n",
        "\n",
        "#data=pd.read_csv(\"heartd.csv\", sep = ';', encoding = 'latin1', error_bad_lines=False)\n",
        "data=pd.read_csv(\"heart_failure_clinical_records_dataset.csv\")\n",
        "print(data.head())\n",
        "#print(data.describe(include='O').T)\n",
        "#sns.relplot(data=data,x=\"Sales of shampoo over a three year period\",y=\"Month\",kind=\"line\")\n",
        "plt.show()\n",
        "\n",
        "\n"
      ]
    },
    {
      "cell_type": "code",
      "source": [
        "X=pd.get_dummies(data.drop(columns=['DEATH_EVENT']),drop_first=True)\n",
        "\n",
        "y=data['DEATH_EVENT']\n",
        "train_x,test_x,train_y,test_y=train_test_split(X,y, test_size=0.25,random_state=1)\n",
        "clf = DecisionTreeClassifier(random_state=0)\n",
        "clf.fit(train_x,train_y)\n",
        "prediction_tree=clf.predict(test_x)\n",
        "text_representation = tree.export_text(clf)\n",
        "print(text_representation)"
      ],
      "metadata": {
        "colab": {
          "base_uri": "https://localhost:8080/"
        },
        "id": "97ovh1vNVHiH",
        "outputId": "a669082c-84b3-49c8-a133-893cd1c679d7"
      },
      "execution_count": 12,
      "outputs": [
        {
          "output_type": "stream",
          "name": "stdout",
          "text": [
            "|--- feature_11 <= 73.50\n",
            "|   |--- feature_8 <= 136.50\n",
            "|   |   |--- feature_7 <= 0.85\n",
            "|   |   |   |--- class: 0\n",
            "|   |   |--- feature_7 >  0.85\n",
            "|   |   |   |--- feature_7 <= 1.05\n",
            "|   |   |   |   |--- feature_6 <= 222000.00\n",
            "|   |   |   |   |   |--- class: 0\n",
            "|   |   |   |   |--- feature_6 >  222000.00\n",
            "|   |   |   |   |   |--- class: 1\n",
            "|   |   |   |--- feature_7 >  1.05\n",
            "|   |   |   |   |--- class: 1\n",
            "|   |--- feature_8 >  136.50\n",
            "|   |   |--- feature_8 <= 139.50\n",
            "|   |   |   |--- feature_11 <= 11.50\n",
            "|   |   |   |   |--- class: 1\n",
            "|   |   |   |--- feature_11 >  11.50\n",
            "|   |   |   |   |--- feature_7 <= 1.09\n",
            "|   |   |   |   |   |--- feature_4 <= 27.50\n",
            "|   |   |   |   |   |   |--- class: 1\n",
            "|   |   |   |   |   |--- feature_4 >  27.50\n",
            "|   |   |   |   |   |   |--- feature_4 <= 36.50\n",
            "|   |   |   |   |   |   |   |--- class: 0\n",
            "|   |   |   |   |   |   |--- feature_4 >  36.50\n",
            "|   |   |   |   |   |   |   |--- feature_11 <= 47.00\n",
            "|   |   |   |   |   |   |   |   |--- class: 1\n",
            "|   |   |   |   |   |   |   |--- feature_11 >  47.00\n",
            "|   |   |   |   |   |   |   |   |--- class: 0\n",
            "|   |   |   |   |--- feature_7 >  1.09\n",
            "|   |   |   |   |   |--- class: 0\n",
            "|   |   |--- feature_8 >  139.50\n",
            "|   |   |   |--- class: 1\n",
            "|--- feature_11 >  73.50\n",
            "|   |--- feature_7 <= 1.55\n",
            "|   |   |--- feature_7 <= 0.65\n",
            "|   |   |   |--- class: 1\n",
            "|   |   |--- feature_7 >  0.65\n",
            "|   |   |   |--- feature_4 <= 27.50\n",
            "|   |   |   |   |--- feature_11 <= 78.50\n",
            "|   |   |   |   |   |--- class: 1\n",
            "|   |   |   |   |--- feature_11 >  78.50\n",
            "|   |   |   |   |   |--- feature_11 <= 210.50\n",
            "|   |   |   |   |   |   |--- feature_10 <= 0.50\n",
            "|   |   |   |   |   |   |   |--- class: 0\n",
            "|   |   |   |   |   |   |--- feature_10 >  0.50\n",
            "|   |   |   |   |   |   |   |--- feature_7 <= 1.15\n",
            "|   |   |   |   |   |   |   |   |--- class: 0\n",
            "|   |   |   |   |   |   |   |--- feature_7 >  1.15\n",
            "|   |   |   |   |   |   |   |   |--- feature_7 <= 1.25\n",
            "|   |   |   |   |   |   |   |   |   |--- class: 1\n",
            "|   |   |   |   |   |   |   |   |--- feature_7 >  1.25\n",
            "|   |   |   |   |   |   |   |   |   |--- class: 0\n",
            "|   |   |   |   |   |--- feature_11 >  210.50\n",
            "|   |   |   |   |   |   |--- feature_0 <= 50.00\n",
            "|   |   |   |   |   |   |   |--- class: 0\n",
            "|   |   |   |   |   |   |--- feature_0 >  50.00\n",
            "|   |   |   |   |   |   |   |--- class: 1\n",
            "|   |   |   |--- feature_4 >  27.50\n",
            "|   |   |   |   |--- feature_0 <= 79.00\n",
            "|   |   |   |   |   |--- feature_2 <= 2307.50\n",
            "|   |   |   |   |   |   |--- feature_6 <= 349500.00\n",
            "|   |   |   |   |   |   |   |--- class: 0\n",
            "|   |   |   |   |   |   |--- feature_6 >  349500.00\n",
            "|   |   |   |   |   |   |   |--- feature_6 <= 354500.00\n",
            "|   |   |   |   |   |   |   |   |--- class: 1\n",
            "|   |   |   |   |   |   |   |--- feature_6 >  354500.00\n",
            "|   |   |   |   |   |   |   |   |--- class: 0\n",
            "|   |   |   |   |   |--- feature_2 >  2307.50\n",
            "|   |   |   |   |   |   |--- feature_3 <= 0.50\n",
            "|   |   |   |   |   |   |   |--- class: 0\n",
            "|   |   |   |   |   |   |--- feature_3 >  0.50\n",
            "|   |   |   |   |   |   |   |--- feature_0 <= 60.00\n",
            "|   |   |   |   |   |   |   |   |--- class: 1\n",
            "|   |   |   |   |   |   |   |--- feature_0 >  60.00\n",
            "|   |   |   |   |   |   |   |   |--- class: 0\n",
            "|   |   |   |   |--- feature_0 >  79.00\n",
            "|   |   |   |   |   |--- feature_8 <= 135.50\n",
            "|   |   |   |   |   |   |--- class: 1\n",
            "|   |   |   |   |   |--- feature_8 >  135.50\n",
            "|   |   |   |   |   |   |--- class: 0\n",
            "|   |--- feature_7 >  1.55\n",
            "|   |   |--- feature_4 <= 22.50\n",
            "|   |   |   |--- class: 1\n",
            "|   |   |--- feature_4 >  22.50\n",
            "|   |   |   |--- feature_11 <= 213.50\n",
            "|   |   |   |   |--- feature_6 <= 226000.00\n",
            "|   |   |   |   |   |--- feature_2 <= 67.50\n",
            "|   |   |   |   |   |   |--- class: 0\n",
            "|   |   |   |   |   |--- feature_2 >  67.50\n",
            "|   |   |   |   |   |   |--- feature_3 <= 0.50\n",
            "|   |   |   |   |   |   |   |--- class: 1\n",
            "|   |   |   |   |   |   |--- feature_3 >  0.50\n",
            "|   |   |   |   |   |   |   |--- feature_9 <= 0.50\n",
            "|   |   |   |   |   |   |   |   |--- class: 1\n",
            "|   |   |   |   |   |   |   |--- feature_9 >  0.50\n",
            "|   |   |   |   |   |   |   |   |--- class: 0\n",
            "|   |   |   |   |--- feature_6 >  226000.00\n",
            "|   |   |   |   |   |--- feature_7 <= 1.75\n",
            "|   |   |   |   |   |   |--- class: 1\n",
            "|   |   |   |   |   |--- feature_7 >  1.75\n",
            "|   |   |   |   |   |   |--- class: 0\n",
            "|   |   |   |--- feature_11 >  213.50\n",
            "|   |   |   |   |--- class: 0\n",
            "\n"
          ]
        }
      ]
    },
    {
      "cell_type": "code",
      "source": [
        "#print(clf)\n",
        "#print(prediction_tree)\n",
        "confusion_matrix_logr=confusion_matrix(test_y, prediction_tree)\n",
        "tn,fp,fn,tp=confusion_matrix_logr.ravel()\n",
        "print(confusion_matrix_logr)\n",
        "print('tp:',tp,'tn:',tn,'fp:',fp,'fn:',fn)\n",
        "acc_score_logr=accuracy_score(test_y,prediction_tree)\n",
        "print(round(acc_score_logr*100,2))\n",
        "lr_precision=tp/(tp+fp)\n",
        "lr_recall=tp/(tp+fn)\n",
        "lr_f1_score=2/(1/lr_precision+1/lr_recall)\n",
        "print(\"Precision is:\",round(lr_precision*100,2),\"Recall is:\",round(lr_recall*100,2),\"F1 Score is:\",round(lr_f1_score*100,2))\n",
        "print('Misclassified samples: %d' %(test_y!=prediction_tree).sum())"
      ],
      "metadata": {
        "colab": {
          "base_uri": "https://localhost:8080/"
        },
        "id": "IGqADOD7VMgt",
        "outputId": "c173a100-e7b7-4175-e3e6-09810c406ced"
      },
      "execution_count": 13,
      "outputs": [
        {
          "output_type": "stream",
          "name": "stdout",
          "text": [
            "[[49  6]\n",
            " [ 8 12]]\n",
            "tp: 12 tn: 49 fp: 6 fn: 8\n",
            "81.33\n",
            "Precision is: 66.67 Recall is: 60.0 F1 Score is: 63.16\n",
            "Misclassified samples: 14\n"
          ]
        }
      ]
    },
    {
      "cell_type": "code",
      "source": [
        "from sklearn.linear_model import LogisticRegression\n",
        "\n",
        "# instantiate the model (using the default parameters)\n",
        "clf = LogisticRegression()\n",
        "clf.fit(train_x,train_y)\n",
        "prediction_tree=clf.predict(test_x)\n",
        "#text_representation = tree.export_text(clf)"
      ],
      "metadata": {
        "id": "-DAc-XrUDF-K",
        "outputId": "0eb04a2d-ba9c-42a2-e194-f98d87929e86",
        "colab": {
          "base_uri": "https://localhost:8080/"
        }
      },
      "execution_count": 15,
      "outputs": [
        {
          "output_type": "stream",
          "name": "stderr",
          "text": [
            "/usr/local/lib/python3.7/dist-packages/sklearn/linear_model/_logistic.py:818: ConvergenceWarning: lbfgs failed to converge (status=1):\n",
            "STOP: TOTAL NO. of ITERATIONS REACHED LIMIT.\n",
            "\n",
            "Increase the number of iterations (max_iter) or scale the data as shown in:\n",
            "    https://scikit-learn.org/stable/modules/preprocessing.html\n",
            "Please also refer to the documentation for alternative solver options:\n",
            "    https://scikit-learn.org/stable/modules/linear_model.html#logistic-regression\n",
            "  extra_warning_msg=_LOGISTIC_SOLVER_CONVERGENCE_MSG,\n"
          ]
        }
      ]
    },
    {
      "cell_type": "code",
      "source": [
        "confusion_matrix_logr=confusion_matrix(test_y, prediction_tree)\n",
        "tn,fp,fn,tp=confusion_matrix_logr.ravel()\n",
        "print(confusion_matrix_logr)\n",
        "print('tp:',tp,'tn:',tn,'fp:',fp,'fn:',fn)\n",
        "acc_score_logr=accuracy_score(test_y,prediction_tree)\n",
        "print(round(acc_score_logr*100,2))\n",
        "lr_precision=tp/(tp+fp)\n",
        "lr_recall=tp/(tp+fn)\n",
        "lr_f1_score=2/(1/lr_precision+1/lr_recall)\n",
        "print(\"Precision is:\",round(lr_precision*100,2),\"Recall is:\",round(lr_recall*100,2),\"F1 Score is:\",round(lr_f1_score*100,2))\n",
        "print('Misclassified samples: %d' %(test_y!=prediction_tree).sum())"
      ],
      "metadata": {
        "id": "kPL0srpsIHpl",
        "outputId": "d43f695f-accd-4b76-b248-03a61a027dcf",
        "colab": {
          "base_uri": "https://localhost:8080/"
        }
      },
      "execution_count": 16,
      "outputs": [
        {
          "output_type": "stream",
          "name": "stdout",
          "text": [
            "[[52  3]\n",
            " [ 7 13]]\n",
            "tp: 13 tn: 52 fp: 3 fn: 7\n",
            "86.67\n",
            "Precision is: 81.25 Recall is: 65.0 F1 Score is: 72.22\n",
            "Misclassified samples: 10\n"
          ]
        }
      ]
    },
    {
      "cell_type": "code",
      "source": [
        "from sklearn.naive_bayes import GaussianNB\n",
        "gnb = GaussianNB()\n",
        "gnb.fit(train_x,train_y)\n",
        "prediction_tree=gnb.predict(test_x)"
      ],
      "metadata": {
        "id": "J6vST2TPKp0a"
      },
      "execution_count": 17,
      "outputs": []
    },
    {
      "cell_type": "code",
      "source": [
        "confusion_matrix_logr=confusion_matrix(test_y, prediction_tree)\n",
        "tn,fp,fn,tp=confusion_matrix_logr.ravel()\n",
        "print(confusion_matrix_logr)\n",
        "print('tp:',tp,'tn:',tn,'fp:',fp,'fn:',fn)\n",
        "acc_score_logr=accuracy_score(test_y,prediction_tree)\n",
        "print(round(acc_score_logr*100,2))\n",
        "lr_precision=tp/(tp+fp)\n",
        "lr_recall=tp/(tp+fn)\n",
        "lr_f1_score=2/(1/lr_precision+1/lr_recall)\n",
        "print(\"Precision is:\",round(lr_precision*100,2),\"Recall is:\",round(lr_recall*100,2),\"F1 Score is:\",round(lr_f1_score*100,2))\n",
        "print('Misclassified samples: %d' %(test_y!=prediction_tree).sum())"
      ],
      "metadata": {
        "id": "Mx0NaNCwK5X1",
        "outputId": "1163a8b4-85a1-4f38-a8dc-3dc1725f2a94",
        "colab": {
          "base_uri": "https://localhost:8080/"
        }
      },
      "execution_count": 18,
      "outputs": [
        {
          "output_type": "stream",
          "name": "stdout",
          "text": [
            "[[54  1]\n",
            " [10 10]]\n",
            "tp: 10 tn: 54 fp: 1 fn: 10\n",
            "85.33\n",
            "Precision is: 90.91 Recall is: 50.0 F1 Score is: 64.52\n",
            "Misclassified samples: 11\n"
          ]
        }
      ]
    },
    {
      "cell_type": "code",
      "source": [
        "from sklearn.neighbors import KNeighborsClassifier  \n",
        "classifier= KNeighborsClassifier(n_neighbors=5, metric='minkowski', p=2 )  \n",
        "classifier.fit(train_x,train_y)\n",
        "prediction_tree=classifier.predict(test_x)"
      ],
      "metadata": {
        "id": "0nbJjne8LAVN"
      },
      "execution_count": 26,
      "outputs": []
    },
    {
      "cell_type": "code",
      "source": [
        "confusion_matrix_logr=confusion_matrix(test_y, prediction_tree)\n",
        "tn,fp,fn,tp=confusion_matrix_logr.ravel()\n",
        "print(confusion_matrix_logr)\n",
        "print('tp:',tp,'tn:',tn,'fp:',fp,'fn:',fn)\n",
        "acc_score_logr=accuracy_score(test_y,prediction_tree)\n",
        "print(round(acc_score_logr*100,2))\n",
        "lr_precision=tp/(tp+fp)\n",
        "lr_recall=tp/(tp+fn)\n",
        "lr_f1_score=2/(1/lr_precision+1/lr_recall)\n",
        "print(\"Precision is:\",round(lr_precision*100,2),\"Recall is:\",round(lr_recall*100,2),\"F1 Score is:\",round(lr_f1_score*100,2))\n",
        "print('Misclassified samples: %d' %(test_y!=prediction_tree).sum())"
      ],
      "metadata": {
        "id": "2UEfWxXUL-si",
        "outputId": "dae4e8df-ae81-4059-a0d0-02ef47c67177",
        "colab": {
          "base_uri": "https://localhost:8080/"
        }
      },
      "execution_count": 25,
      "outputs": [
        {
          "output_type": "stream",
          "name": "stdout",
          "text": [
            "[[41 14]\n",
            " [18  2]]\n",
            "tp: 2 tn: 41 fp: 14 fn: 18\n",
            "57.33\n",
            "Precision is: 12.5 Recall is: 10.0 F1 Score is: 11.11\n",
            "Misclassified samples: 32\n"
          ]
        }
      ]
    },
    {
      "cell_type": "code",
      "source": [
        "from sklearn import svm\n",
        "\n",
        "#Create a svm Classifier\n",
        "clf = svm.SVC(kernel='linear')\n",
        "clf.fit(train_x,train_y)\n",
        "prediction_tree=clf.predict(test_x)"
      ],
      "metadata": {
        "id": "7Qp2OfWnMoF9"
      },
      "execution_count": 27,
      "outputs": []
    },
    {
      "cell_type": "code",
      "source": [
        "confusion_matrix_logr=confusion_matrix(test_y, prediction_tree)\n",
        "tn,fp,fn,tp=confusion_matrix_logr.ravel()\n",
        "print(confusion_matrix_logr)\n",
        "print('tp:',tp,'tn:',tn,'fp:',fp,'fn:',fn)\n",
        "acc_score_logr=accuracy_score(test_y,prediction_tree)\n",
        "print(round(acc_score_logr*100,2))\n",
        "lr_precision=tp/(tp+fp)\n",
        "lr_recall=tp/(tp+fn)\n",
        "lr_f1_score=2/(1/lr_precision+1/lr_recall)\n",
        "print(\"Precision is:\",round(lr_precision*100,2),\"Recall is:\",round(lr_recall*100,2),\"F1 Score is:\",round(lr_f1_score*100,2))\n",
        "print('Misclassified samples: %d' %(test_y!=prediction_tree).sum())"
      ],
      "metadata": {
        "id": "IFUCwoF-OzsS",
        "outputId": "bd6cbd23-8b62-439d-ef8e-56dcfba4e703",
        "colab": {
          "base_uri": "https://localhost:8080/"
        }
      },
      "execution_count": 28,
      "outputs": [
        {
          "output_type": "stream",
          "name": "stdout",
          "text": [
            "[[49  6]\n",
            " [11  9]]\n",
            "tp: 9 tn: 49 fp: 6 fn: 11\n",
            "77.33\n",
            "Precision is: 60.0 Recall is: 45.0 F1 Score is: 51.43\n",
            "Misclassified samples: 17\n"
          ]
        }
      ]
    },
    {
      "cell_type": "markdown",
      "source": [
        "![Untitled0.ipynb - Colaboratory - Brave 5_1_2022 4_50_00 PM (2).png](data:image/png;base64,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)"
      ],
      "metadata": {
        "id": "gezwqRIrYl7a"
      }
    },
    {
      "cell_type": "markdown",
      "source": [
        "In the above table,LR(Logistic Regression) algorithm is working well on the dataset.So we choose LR for prediction.\n"
      ],
      "metadata": {
        "id": "hsL2FaK9Y8cc"
      }
    },
    {
      "cell_type": "code",
      "source": [
        ""
      ],
      "metadata": {
        "id": "9HKos3jMZnmk"
      },
      "execution_count": null,
      "outputs": []
    }
  ]
}